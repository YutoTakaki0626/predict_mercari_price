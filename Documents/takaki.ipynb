{
 "cells": [
  {
   "cell_type": "markdown",
   "metadata": {},
   "source": [
    "## mercariの値段予測モデル\n",
    "\n",
    "kaggleにあるmercariのデータを利用しました\n",
    "https://www.kaggle.com/saitosean/mercari\n",
    "\n",
    "テストデータの正しい値段のデータが見当たらなかったので、\\\n",
    "train.tsvを学習データとテストデータに分けています。"
   ]
  },
  {
   "cell_type": "markdown",
   "metadata": {},
   "source": [
    "### 工夫点\n",
    "\n",
    "・対数変換を用いて、正規分布に近づける\\\n",
    "・欠損値処理（特にブランド名と商品名の関連に注目して処理した）\\\n",
    "・Embedding層でのベクトル化\\\n",
    "・再帰層にGRUを用いる"
   ]
  },
  {
   "cell_type": "code",
   "execution_count": 1,
   "metadata": {},
   "outputs": [],
   "source": [
    "import numpy as np\n",
    "import pandas as pd\n",
    "import matplotlib.pyplot as plt"
   ]
  },
  {
   "cell_type": "code",
   "execution_count": 2,
   "metadata": {},
   "outputs": [
    {
     "name": "stdout",
     "output_type": "stream",
     "text": [
      "(1482535, 8)\n"
     ]
    }
   ],
   "source": [
    "train_df = pd.read_table('./train.tsv')\n",
    "print(train_df.shape)"
   ]
  },
  {
   "cell_type": "code",
   "execution_count": 3,
   "metadata": {},
   "outputs": [
    {
     "data": {
      "text/html": [
       "<div>\n",
       "<style scoped>\n",
       "    .dataframe tbody tr th:only-of-type {\n",
       "        vertical-align: middle;\n",
       "    }\n",
       "\n",
       "    .dataframe tbody tr th {\n",
       "        vertical-align: top;\n",
       "    }\n",
       "\n",
       "    .dataframe thead th {\n",
       "        text-align: right;\n",
       "    }\n",
       "</style>\n",
       "<table border=\"1\" class=\"dataframe\">\n",
       "  <thead>\n",
       "    <tr style=\"text-align: right;\">\n",
       "      <th></th>\n",
       "      <th>train_id</th>\n",
       "      <th>name</th>\n",
       "      <th>item_condition_id</th>\n",
       "      <th>category_name</th>\n",
       "      <th>brand_name</th>\n",
       "      <th>price</th>\n",
       "      <th>shipping</th>\n",
       "      <th>item_description</th>\n",
       "    </tr>\n",
       "  </thead>\n",
       "  <tbody>\n",
       "    <tr>\n",
       "      <th>0</th>\n",
       "      <td>0</td>\n",
       "      <td>MLB Cincinnati Reds T Shirt Size XL</td>\n",
       "      <td>3</td>\n",
       "      <td>Men/Tops/T-shirts</td>\n",
       "      <td>NaN</td>\n",
       "      <td>10.0</td>\n",
       "      <td>1</td>\n",
       "      <td>No description yet</td>\n",
       "    </tr>\n",
       "    <tr>\n",
       "      <th>1</th>\n",
       "      <td>1</td>\n",
       "      <td>Razer BlackWidow Chroma Keyboard</td>\n",
       "      <td>3</td>\n",
       "      <td>Electronics/Computers &amp; Tablets/Components &amp; P...</td>\n",
       "      <td>Razer</td>\n",
       "      <td>52.0</td>\n",
       "      <td>0</td>\n",
       "      <td>This keyboard is in great condition and works ...</td>\n",
       "    </tr>\n",
       "    <tr>\n",
       "      <th>2</th>\n",
       "      <td>2</td>\n",
       "      <td>AVA-VIV Blouse</td>\n",
       "      <td>1</td>\n",
       "      <td>Women/Tops &amp; Blouses/Blouse</td>\n",
       "      <td>Target</td>\n",
       "      <td>10.0</td>\n",
       "      <td>1</td>\n",
       "      <td>Adorable top with a hint of lace and a key hol...</td>\n",
       "    </tr>\n",
       "    <tr>\n",
       "      <th>3</th>\n",
       "      <td>3</td>\n",
       "      <td>Leather Horse Statues</td>\n",
       "      <td>1</td>\n",
       "      <td>Home/Home Décor/Home Décor Accents</td>\n",
       "      <td>NaN</td>\n",
       "      <td>35.0</td>\n",
       "      <td>1</td>\n",
       "      <td>New with tags. Leather horses. Retail for [rm]...</td>\n",
       "    </tr>\n",
       "    <tr>\n",
       "      <th>4</th>\n",
       "      <td>4</td>\n",
       "      <td>24K GOLD plated rose</td>\n",
       "      <td>1</td>\n",
       "      <td>Women/Jewelry/Necklaces</td>\n",
       "      <td>NaN</td>\n",
       "      <td>44.0</td>\n",
       "      <td>0</td>\n",
       "      <td>Complete with certificate of authenticity</td>\n",
       "    </tr>\n",
       "  </tbody>\n",
       "</table>\n",
       "</div>"
      ],
      "text/plain": [
       "   train_id                                 name  item_condition_id  \\\n",
       "0         0  MLB Cincinnati Reds T Shirt Size XL                  3   \n",
       "1         1     Razer BlackWidow Chroma Keyboard                  3   \n",
       "2         2                       AVA-VIV Blouse                  1   \n",
       "3         3                Leather Horse Statues                  1   \n",
       "4         4                 24K GOLD plated rose                  1   \n",
       "\n",
       "                                       category_name brand_name  price  \\\n",
       "0                                  Men/Tops/T-shirts        NaN   10.0   \n",
       "1  Electronics/Computers & Tablets/Components & P...      Razer   52.0   \n",
       "2                        Women/Tops & Blouses/Blouse     Target   10.0   \n",
       "3                 Home/Home Décor/Home Décor Accents        NaN   35.0   \n",
       "4                            Women/Jewelry/Necklaces        NaN   44.0   \n",
       "\n",
       "   shipping                                   item_description  \n",
       "0         1                                 No description yet  \n",
       "1         0  This keyboard is in great condition and works ...  \n",
       "2         1  Adorable top with a hint of lace and a key hol...  \n",
       "3         1  New with tags. Leather horses. Retail for [rm]...  \n",
       "4         0          Complete with certificate of authenticity  "
      ]
     },
     "execution_count": 3,
     "metadata": {},
     "output_type": "execute_result"
    }
   ],
   "source": [
    "train_df.head()"
   ]
  },
  {
   "cell_type": "markdown",
   "metadata": {},
   "source": [
    "訓練データとテストデータに分ける"
   ]
  },
  {
   "cell_type": "code",
   "execution_count": 4,
   "metadata": {},
   "outputs": [
    {
     "name": "stdout",
     "output_type": "stream",
     "text": [
      "(889521, 8)\n",
      "(593014, 8)\n"
     ]
    }
   ],
   "source": [
    "from sklearn.model_selection import train_test_split\n",
    "\n",
    "train_df, test_df = train_test_split(\n",
    "    train_df,\n",
    "    train_size=0.6,\n",
    "    test_size=0.4)\n",
    "\n",
    "print(train_df.shape)\n",
    "print(test_df.shape)"
   ]
  },
  {
   "cell_type": "code",
   "execution_count": 5,
   "metadata": {
    "scrolled": true
   },
   "outputs": [
    {
     "data": {
      "text/html": [
       "<div>\n",
       "<style scoped>\n",
       "    .dataframe tbody tr th:only-of-type {\n",
       "        vertical-align: middle;\n",
       "    }\n",
       "\n",
       "    .dataframe tbody tr th {\n",
       "        vertical-align: top;\n",
       "    }\n",
       "\n",
       "    .dataframe thead th {\n",
       "        text-align: right;\n",
       "    }\n",
       "</style>\n",
       "<table border=\"1\" class=\"dataframe\">\n",
       "  <thead>\n",
       "    <tr style=\"text-align: right;\">\n",
       "      <th></th>\n",
       "      <th>train_id</th>\n",
       "      <th>name</th>\n",
       "      <th>item_condition_id</th>\n",
       "      <th>category_name</th>\n",
       "      <th>brand_name</th>\n",
       "      <th>price</th>\n",
       "      <th>shipping</th>\n",
       "      <th>item_description</th>\n",
       "    </tr>\n",
       "  </thead>\n",
       "  <tbody>\n",
       "    <tr>\n",
       "      <th>1055014</th>\n",
       "      <td>1055014</td>\n",
       "      <td>Nike pro youth leggins</td>\n",
       "      <td>2</td>\n",
       "      <td>Kids/Boys (4+)/Top &amp; T-shirts</td>\n",
       "      <td>Nike</td>\n",
       "      <td>12.0</td>\n",
       "      <td>0</td>\n",
       "      <td>size youth large worn 1 time! Will ship asap! ...</td>\n",
       "    </tr>\n",
       "    <tr>\n",
       "      <th>213969</th>\n",
       "      <td>213969</td>\n",
       "      <td>Summer VS PINK</td>\n",
       "      <td>2</td>\n",
       "      <td>Women/Tops &amp; Blouses/T-Shirts</td>\n",
       "      <td>PINK</td>\n",
       "      <td>4.0</td>\n",
       "      <td>1</td>\n",
       "      <td>Reserved listing</td>\n",
       "    </tr>\n",
       "    <tr>\n",
       "      <th>1169222</th>\n",
       "      <td>1169222</td>\n",
       "      <td>Black Embroidered Sheer Lace Tunic Dress</td>\n",
       "      <td>3</td>\n",
       "      <td>Women/Dresses/Above Knee, Mini</td>\n",
       "      <td>NaN</td>\n",
       "      <td>12.0</td>\n",
       "      <td>0</td>\n",
       "      <td>New without tags. This dress can also be used ...</td>\n",
       "    </tr>\n",
       "    <tr>\n",
       "      <th>698204</th>\n",
       "      <td>698204</td>\n",
       "      <td>Adrell eyelashes</td>\n",
       "      <td>1</td>\n",
       "      <td>Beauty/Makeup/Eyes</td>\n",
       "      <td>NaN</td>\n",
       "      <td>12.0</td>\n",
       "      <td>1</td>\n",
       "      <td>Ardell single eyelashes new Ardell glue and re...</td>\n",
       "    </tr>\n",
       "    <tr>\n",
       "      <th>1385834</th>\n",
       "      <td>1385834</td>\n",
       "      <td>Nwt Wen 4 piece hair care bundle</td>\n",
       "      <td>1</td>\n",
       "      <td>Beauty/Hair Care/Shampoo &amp; Conditioner Sets</td>\n",
       "      <td>NaN</td>\n",
       "      <td>40.0</td>\n",
       "      <td>0</td>\n",
       "      <td>The bundle includes one lavender cleansing con...</td>\n",
       "    </tr>\n",
       "  </tbody>\n",
       "</table>\n",
       "</div>"
      ],
      "text/plain": [
       "         train_id                                      name  \\\n",
       "1055014   1055014                    Nike pro youth leggins   \n",
       "213969     213969                            Summer VS PINK   \n",
       "1169222   1169222  Black Embroidered Sheer Lace Tunic Dress   \n",
       "698204     698204                          Adrell eyelashes   \n",
       "1385834   1385834          Nwt Wen 4 piece hair care bundle   \n",
       "\n",
       "         item_condition_id                                category_name  \\\n",
       "1055014                  2                Kids/Boys (4+)/Top & T-shirts   \n",
       "213969                   2                Women/Tops & Blouses/T-Shirts   \n",
       "1169222                  3               Women/Dresses/Above Knee, Mini   \n",
       "698204                   1                           Beauty/Makeup/Eyes   \n",
       "1385834                  1  Beauty/Hair Care/Shampoo & Conditioner Sets   \n",
       "\n",
       "        brand_name  price  shipping  \\\n",
       "1055014       Nike   12.0         0   \n",
       "213969        PINK    4.0         1   \n",
       "1169222        NaN   12.0         0   \n",
       "698204         NaN   12.0         1   \n",
       "1385834        NaN   40.0         0   \n",
       "\n",
       "                                          item_description  \n",
       "1055014  size youth large worn 1 time! Will ship asap! ...  \n",
       "213969                                    Reserved listing  \n",
       "1169222  New without tags. This dress can also be used ...  \n",
       "698204   Ardell single eyelashes new Ardell glue and re...  \n",
       "1385834  The bundle includes one lavender cleansing con...  "
      ]
     },
     "execution_count": 5,
     "metadata": {},
     "output_type": "execute_result"
    }
   ],
   "source": [
    "train_df.head()"
   ]
  },
  {
   "cell_type": "code",
   "execution_count": 6,
   "metadata": {
    "scrolled": true
   },
   "outputs": [
    {
     "data": {
      "text/html": [
       "<div>\n",
       "<style scoped>\n",
       "    .dataframe tbody tr th:only-of-type {\n",
       "        vertical-align: middle;\n",
       "    }\n",
       "\n",
       "    .dataframe tbody tr th {\n",
       "        vertical-align: top;\n",
       "    }\n",
       "\n",
       "    .dataframe thead th {\n",
       "        text-align: right;\n",
       "    }\n",
       "</style>\n",
       "<table border=\"1\" class=\"dataframe\">\n",
       "  <thead>\n",
       "    <tr style=\"text-align: right;\">\n",
       "      <th></th>\n",
       "      <th>train_id</th>\n",
       "      <th>name</th>\n",
       "      <th>item_condition_id</th>\n",
       "      <th>category_name</th>\n",
       "      <th>brand_name</th>\n",
       "      <th>price</th>\n",
       "      <th>shipping</th>\n",
       "      <th>item_description</th>\n",
       "    </tr>\n",
       "  </thead>\n",
       "  <tbody>\n",
       "    <tr>\n",
       "      <th>363400</th>\n",
       "      <td>363400</td>\n",
       "      <td>ABH Crush Liquid Lipstick</td>\n",
       "      <td>1</td>\n",
       "      <td>Beauty/Makeup/Lips</td>\n",
       "      <td>Anastasia Beverly Hills</td>\n",
       "      <td>17.0</td>\n",
       "      <td>1</td>\n",
       "      <td>This Anastasia Beverly Hills liquid lipstick g...</td>\n",
       "    </tr>\n",
       "    <tr>\n",
       "      <th>1475289</th>\n",
       "      <td>1475289</td>\n",
       "      <td>Holo Flareon EX</td>\n",
       "      <td>2</td>\n",
       "      <td>Vintage &amp; Collectibles/Trading Cards/Animation</td>\n",
       "      <td>Pokemon</td>\n",
       "      <td>3.0</td>\n",
       "      <td>1</td>\n",
       "      <td>Holo Flareon EX!! Mint, Will ship in card sleeve.</td>\n",
       "    </tr>\n",
       "    <tr>\n",
       "      <th>593583</th>\n",
       "      <td>593583</td>\n",
       "      <td>NARS Orgasm Blush</td>\n",
       "      <td>1</td>\n",
       "      <td>Beauty/Makeup/Face</td>\n",
       "      <td>Nars</td>\n",
       "      <td>18.0</td>\n",
       "      <td>1</td>\n",
       "      <td>✨ New and unused ✨ Full size ✨ Authentic -- fr...</td>\n",
       "    </tr>\n",
       "    <tr>\n",
       "      <th>1405366</th>\n",
       "      <td>1405366</td>\n",
       "      <td>321justin orioles</td>\n",
       "      <td>1</td>\n",
       "      <td>Sports &amp; Outdoors/Fan Shop/MLB</td>\n",
       "      <td>NaN</td>\n",
       "      <td>74.0</td>\n",
       "      <td>0</td>\n",
       "      <td>All Oriole's.. Boy bobble head, XL hoodie, soc...</td>\n",
       "    </tr>\n",
       "    <tr>\n",
       "      <th>724901</th>\n",
       "      <td>724901</td>\n",
       "      <td>Michael kors crossbody</td>\n",
       "      <td>4</td>\n",
       "      <td>Women/Women's Handbags/Messenger &amp; Crossbody</td>\n",
       "      <td>Michael Kors</td>\n",
       "      <td>24.0</td>\n",
       "      <td>0</td>\n",
       "      <td>Grey crossbody has two zipper parts that you c...</td>\n",
       "    </tr>\n",
       "  </tbody>\n",
       "</table>\n",
       "</div>"
      ],
      "text/plain": [
       "         train_id                       name  item_condition_id  \\\n",
       "363400     363400  ABH Crush Liquid Lipstick                  1   \n",
       "1475289   1475289            Holo Flareon EX                  2   \n",
       "593583     593583          NARS Orgasm Blush                  1   \n",
       "1405366   1405366          321justin orioles                  1   \n",
       "724901     724901     Michael kors crossbody                  4   \n",
       "\n",
       "                                          category_name  \\\n",
       "363400                               Beauty/Makeup/Lips   \n",
       "1475289  Vintage & Collectibles/Trading Cards/Animation   \n",
       "593583                               Beauty/Makeup/Face   \n",
       "1405366                  Sports & Outdoors/Fan Shop/MLB   \n",
       "724901     Women/Women's Handbags/Messenger & Crossbody   \n",
       "\n",
       "                      brand_name  price  shipping  \\\n",
       "363400   Anastasia Beverly Hills   17.0         1   \n",
       "1475289                  Pokemon    3.0         1   \n",
       "593583                      Nars   18.0         1   \n",
       "1405366                      NaN   74.0         0   \n",
       "724901              Michael Kors   24.0         0   \n",
       "\n",
       "                                          item_description  \n",
       "363400   This Anastasia Beverly Hills liquid lipstick g...  \n",
       "1475289  Holo Flareon EX!! Mint, Will ship in card sleeve.  \n",
       "593583   ✨ New and unused ✨ Full size ✨ Authentic -- fr...  \n",
       "1405366  All Oriole's.. Boy bobble head, XL hoodie, soc...  \n",
       "724901   Grey crossbody has two zipper parts that you c...  "
      ]
     },
     "execution_count": 6,
     "metadata": {},
     "output_type": "execute_result"
    }
   ],
   "source": [
    "test_df.head()"
   ]
  },
  {
   "cell_type": "markdown",
   "metadata": {},
   "source": [
    "テストデータの'price'を削除して、テストデータとして利用できる様にする"
   ]
  },
  {
   "cell_type": "code",
   "execution_count": 7,
   "metadata": {},
   "outputs": [
    {
     "data": {
      "text/html": [
       "<div>\n",
       "<style scoped>\n",
       "    .dataframe tbody tr th:only-of-type {\n",
       "        vertical-align: middle;\n",
       "    }\n",
       "\n",
       "    .dataframe tbody tr th {\n",
       "        vertical-align: top;\n",
       "    }\n",
       "\n",
       "    .dataframe thead th {\n",
       "        text-align: right;\n",
       "    }\n",
       "</style>\n",
       "<table border=\"1\" class=\"dataframe\">\n",
       "  <thead>\n",
       "    <tr style=\"text-align: right;\">\n",
       "      <th></th>\n",
       "      <th>train_id</th>\n",
       "      <th>name</th>\n",
       "      <th>item_condition_id</th>\n",
       "      <th>category_name</th>\n",
       "      <th>brand_name</th>\n",
       "      <th>shipping</th>\n",
       "      <th>item_description</th>\n",
       "    </tr>\n",
       "  </thead>\n",
       "  <tbody>\n",
       "    <tr>\n",
       "      <th>363400</th>\n",
       "      <td>363400</td>\n",
       "      <td>ABH Crush Liquid Lipstick</td>\n",
       "      <td>1</td>\n",
       "      <td>Beauty/Makeup/Lips</td>\n",
       "      <td>Anastasia Beverly Hills</td>\n",
       "      <td>1</td>\n",
       "      <td>This Anastasia Beverly Hills liquid lipstick g...</td>\n",
       "    </tr>\n",
       "    <tr>\n",
       "      <th>1475289</th>\n",
       "      <td>1475289</td>\n",
       "      <td>Holo Flareon EX</td>\n",
       "      <td>2</td>\n",
       "      <td>Vintage &amp; Collectibles/Trading Cards/Animation</td>\n",
       "      <td>Pokemon</td>\n",
       "      <td>1</td>\n",
       "      <td>Holo Flareon EX!! Mint, Will ship in card sleeve.</td>\n",
       "    </tr>\n",
       "    <tr>\n",
       "      <th>593583</th>\n",
       "      <td>593583</td>\n",
       "      <td>NARS Orgasm Blush</td>\n",
       "      <td>1</td>\n",
       "      <td>Beauty/Makeup/Face</td>\n",
       "      <td>Nars</td>\n",
       "      <td>1</td>\n",
       "      <td>✨ New and unused ✨ Full size ✨ Authentic -- fr...</td>\n",
       "    </tr>\n",
       "    <tr>\n",
       "      <th>1405366</th>\n",
       "      <td>1405366</td>\n",
       "      <td>321justin orioles</td>\n",
       "      <td>1</td>\n",
       "      <td>Sports &amp; Outdoors/Fan Shop/MLB</td>\n",
       "      <td>NaN</td>\n",
       "      <td>0</td>\n",
       "      <td>All Oriole's.. Boy bobble head, XL hoodie, soc...</td>\n",
       "    </tr>\n",
       "    <tr>\n",
       "      <th>724901</th>\n",
       "      <td>724901</td>\n",
       "      <td>Michael kors crossbody</td>\n",
       "      <td>4</td>\n",
       "      <td>Women/Women's Handbags/Messenger &amp; Crossbody</td>\n",
       "      <td>Michael Kors</td>\n",
       "      <td>0</td>\n",
       "      <td>Grey crossbody has two zipper parts that you c...</td>\n",
       "    </tr>\n",
       "  </tbody>\n",
       "</table>\n",
       "</div>"
      ],
      "text/plain": [
       "         train_id                       name  item_condition_id  \\\n",
       "363400     363400  ABH Crush Liquid Lipstick                  1   \n",
       "1475289   1475289            Holo Flareon EX                  2   \n",
       "593583     593583          NARS Orgasm Blush                  1   \n",
       "1405366   1405366          321justin orioles                  1   \n",
       "724901     724901     Michael kors crossbody                  4   \n",
       "\n",
       "                                          category_name  \\\n",
       "363400                               Beauty/Makeup/Lips   \n",
       "1475289  Vintage & Collectibles/Trading Cards/Animation   \n",
       "593583                               Beauty/Makeup/Face   \n",
       "1405366                  Sports & Outdoors/Fan Shop/MLB   \n",
       "724901     Women/Women's Handbags/Messenger & Crossbody   \n",
       "\n",
       "                      brand_name  shipping  \\\n",
       "363400   Anastasia Beverly Hills         1   \n",
       "1475289                  Pokemon         1   \n",
       "593583                      Nars         1   \n",
       "1405366                      NaN         0   \n",
       "724901              Michael Kors         0   \n",
       "\n",
       "                                          item_description  \n",
       "363400   This Anastasia Beverly Hills liquid lipstick g...  \n",
       "1475289  Holo Flareon EX!! Mint, Will ship in card sleeve.  \n",
       "593583   ✨ New and unused ✨ Full size ✨ Authentic -- fr...  \n",
       "1405366  All Oriole's.. Boy bobble head, XL hoodie, soc...  \n",
       "724901   Grey crossbody has two zipper parts that you c...  "
      ]
     },
     "execution_count": 7,
     "metadata": {},
     "output_type": "execute_result"
    }
   ],
   "source": [
    "test_dfs = test_df\n",
    "test_df = test_df.drop('price', axis=1)\n",
    "test_df.head()"
   ]
  },
  {
   "cell_type": "markdown",
   "metadata": {},
   "source": [
    "メルカリで３ドル以下の出品はできないので３ドル以下のデータは除く"
   ]
  },
  {
   "cell_type": "code",
   "execution_count": 8,
   "metadata": {},
   "outputs": [
    {
     "data": {
      "text/plain": [
       "(889005, 8)"
      ]
     },
     "execution_count": 8,
     "metadata": {},
     "output_type": "execute_result"
    }
   ],
   "source": [
    "train_df = train_df.drop(train_df[(train_df.price < 3.0)].index)\n",
    "train_df.shape"
   ]
  },
  {
   "cell_type": "markdown",
   "metadata": {},
   "source": [
    "商品名と商品説明の単語数を登録"
   ]
  },
  {
   "cell_type": "code",
   "execution_count": 9,
   "metadata": {},
   "outputs": [],
   "source": [
    "def wordCount(text):\n",
    "    try:\n",
    "        if text == 'No description yet':\n",
    "            return 0  \n",
    "        else:\n",
    "            text = text.lower()                  \n",
    "            words = [w for w in text.split(\" \")] \n",
    "            return len(words)                    \n",
    "    except: \n",
    "        return 0\n",
    "\n",
    "train_df['name_len'] = train_df['name'].apply(lambda x: wordCount(x))\n",
    "test_df['name_len'] = test_df['name'].apply(lambda x: wordCount(x))\n",
    "\n",
    "train_df['desc_len'] = train_df['item_description'].apply(lambda x: wordCount(x))\n",
    "test_df['desc_len'] = test_df['item_description'].apply(lambda x: wordCount(x))"
   ]
  },
  {
   "cell_type": "markdown",
   "metadata": {},
   "source": [
    "対数変換によって、正規分布に近づける"
   ]
  },
  {
   "cell_type": "code",
   "execution_count": 10,
   "metadata": {},
   "outputs": [
    {
     "data": {
      "text/plain": [
       "<AxesSubplot:>"
      ]
     },
     "execution_count": 10,
     "metadata": {},
     "output_type": "execute_result"
    },
    {
     "data": {
      "image/png": "[encoded data removed]",
      "text/plain": [
       "<Figure size 432x288 with 1 Axes>"
      ]
     },
     "metadata": {
      "needs_background": "light"
     },
     "output_type": "display_data"
    }
   ],
   "source": [
    "train_df['price'].hist()"
   ]
  },
  {
   "cell_type": "code",
   "execution_count": 11,
   "metadata": {},
   "outputs": [
    {
     "data": {
      "text/plain": [
       "<AxesSubplot:>"
      ]
     },
     "execution_count": 11,
     "metadata": {},
     "output_type": "execute_result"
    },
    {
     "data": {
      "image/png": "[encoded data removed]",
      "text/plain": [
       "<Figure size 432x288 with 1 Axes>"
      ]
     },
     "metadata": {
      "needs_background": "light"
     },
     "output_type": "display_data"
    }
   ],
   "source": [
    "train_df['target']=np.log1p(train_df.price)\n",
    "train_df['target'].hist()"
   ]
  },
  {
   "cell_type": "markdown",
   "metadata": {},
   "source": [
    "'category_name'を3つに分ける"
   ]
  },
  {
   "cell_type": "code",
   "execution_count": 12,
   "metadata": {},
   "outputs": [],
   "source": [
    "def split_cat(text):\n",
    "    try: return text.split('/')\n",
    "    except: return ('No Label', 'No Label', 'No Label')\n",
    "    \n",
    "train_df['subcat_0'], train_df['subcat_1'], train_df['subcat_2'] = zip(*train_df['category_name'].apply(lambda x: split_cat(x)))\n",
    "test_df['subcat_0'], test_df['subcat_1'], test_df['subcat_2'] = zip(*test_df['category_name'].apply(lambda x: split_cat(x)))"
   ]
  },
  {
   "cell_type": "code",
   "execution_count": 13,
   "metadata": {},
   "outputs": [
    {
     "data": {
      "text/html": [
       "<div>\n",
       "<style scoped>\n",
       "    .dataframe tbody tr th:only-of-type {\n",
       "        vertical-align: middle;\n",
       "    }\n",
       "\n",
       "    .dataframe tbody tr th {\n",
       "        vertical-align: top;\n",
       "    }\n",
       "\n",
       "    .dataframe thead th {\n",
       "        text-align: right;\n",
       "    }\n",
       "</style>\n",
       "<table border=\"1\" class=\"dataframe\">\n",
       "  <thead>\n",
       "    <tr style=\"text-align: right;\">\n",
       "      <th></th>\n",
       "      <th>train_id</th>\n",
       "      <th>name</th>\n",
       "      <th>item_condition_id</th>\n",
       "      <th>category_name</th>\n",
       "      <th>brand_name</th>\n",
       "      <th>price</th>\n",
       "      <th>shipping</th>\n",
       "      <th>item_description</th>\n",
       "      <th>name_len</th>\n",
       "      <th>desc_len</th>\n",
       "      <th>target</th>\n",
       "      <th>subcat_0</th>\n",
       "      <th>subcat_1</th>\n",
       "      <th>subcat_2</th>\n",
       "    </tr>\n",
       "  </thead>\n",
       "  <tbody>\n",
       "    <tr>\n",
       "      <th>1055014</th>\n",
       "      <td>1055014</td>\n",
       "      <td>Nike pro youth leggins</td>\n",
       "      <td>2</td>\n",
       "      <td>Kids/Boys (4+)/Top &amp; T-shirts</td>\n",
       "      <td>Nike</td>\n",
       "      <td>12.0</td>\n",
       "      <td>0</td>\n",
       "      <td>size youth large worn 1 time! Will ship asap! ...</td>\n",
       "      <td>4</td>\n",
       "      <td>11</td>\n",
       "      <td>2.564949</td>\n",
       "      <td>Kids</td>\n",
       "      <td>Boys (4+)</td>\n",
       "      <td>Top &amp; T-shirts</td>\n",
       "    </tr>\n",
       "    <tr>\n",
       "      <th>213969</th>\n",
       "      <td>213969</td>\n",
       "      <td>Summer VS PINK</td>\n",
       "      <td>2</td>\n",
       "      <td>Women/Tops &amp; Blouses/T-Shirts</td>\n",
       "      <td>PINK</td>\n",
       "      <td>4.0</td>\n",
       "      <td>1</td>\n",
       "      <td>Reserved listing</td>\n",
       "      <td>3</td>\n",
       "      <td>2</td>\n",
       "      <td>1.609438</td>\n",
       "      <td>Women</td>\n",
       "      <td>Tops &amp; Blouses</td>\n",
       "      <td>T-Shirts</td>\n",
       "    </tr>\n",
       "    <tr>\n",
       "      <th>1169222</th>\n",
       "      <td>1169222</td>\n",
       "      <td>Black Embroidered Sheer Lace Tunic Dress</td>\n",
       "      <td>3</td>\n",
       "      <td>Women/Dresses/Above Knee, Mini</td>\n",
       "      <td>NaN</td>\n",
       "      <td>12.0</td>\n",
       "      <td>0</td>\n",
       "      <td>New without tags. This dress can also be used ...</td>\n",
       "      <td>6</td>\n",
       "      <td>76</td>\n",
       "      <td>2.564949</td>\n",
       "      <td>Women</td>\n",
       "      <td>Dresses</td>\n",
       "      <td>Above Knee, Mini</td>\n",
       "    </tr>\n",
       "    <tr>\n",
       "      <th>698204</th>\n",
       "      <td>698204</td>\n",
       "      <td>Adrell eyelashes</td>\n",
       "      <td>1</td>\n",
       "      <td>Beauty/Makeup/Eyes</td>\n",
       "      <td>NaN</td>\n",
       "      <td>12.0</td>\n",
       "      <td>1</td>\n",
       "      <td>Ardell single eyelashes new Ardell glue and re...</td>\n",
       "      <td>2</td>\n",
       "      <td>14</td>\n",
       "      <td>2.564949</td>\n",
       "      <td>Beauty</td>\n",
       "      <td>Makeup</td>\n",
       "      <td>Eyes</td>\n",
       "    </tr>\n",
       "    <tr>\n",
       "      <th>1385834</th>\n",
       "      <td>1385834</td>\n",
       "      <td>Nwt Wen 4 piece hair care bundle</td>\n",
       "      <td>1</td>\n",
       "      <td>Beauty/Hair Care/Shampoo &amp; Conditioner Sets</td>\n",
       "      <td>NaN</td>\n",
       "      <td>40.0</td>\n",
       "      <td>0</td>\n",
       "      <td>The bundle includes one lavender cleansing con...</td>\n",
       "      <td>7</td>\n",
       "      <td>57</td>\n",
       "      <td>3.713572</td>\n",
       "      <td>Beauty</td>\n",
       "      <td>Hair Care</td>\n",
       "      <td>Shampoo &amp; Conditioner Sets</td>\n",
       "    </tr>\n",
       "  </tbody>\n",
       "</table>\n",
       "</div>"
      ],
      "text/plain": [
       "         train_id                                      name  \\\n",
       "1055014   1055014                    Nike pro youth leggins   \n",
       "213969     213969                            Summer VS PINK   \n",
       "1169222   1169222  Black Embroidered Sheer Lace Tunic Dress   \n",
       "698204     698204                          Adrell eyelashes   \n",
       "1385834   1385834          Nwt Wen 4 piece hair care bundle   \n",
       "\n",
       "         item_condition_id                                category_name  \\\n",
       "1055014                  2                Kids/Boys (4+)/Top & T-shirts   \n",
       "213969                   2                Women/Tops & Blouses/T-Shirts   \n",
       "1169222                  3               Women/Dresses/Above Knee, Mini   \n",
       "698204                   1                           Beauty/Makeup/Eyes   \n",
       "1385834                  1  Beauty/Hair Care/Shampoo & Conditioner Sets   \n",
       "\n",
       "        brand_name  price  shipping  \\\n",
       "1055014       Nike   12.0         0   \n",
       "213969        PINK    4.0         1   \n",
       "1169222        NaN   12.0         0   \n",
       "698204         NaN   12.0         1   \n",
       "1385834        NaN   40.0         0   \n",
       "\n",
       "                                          item_description  name_len  \\\n",
       "1055014  size youth large worn 1 time! Will ship asap! ...         4   \n",
       "213969                                    Reserved listing         3   \n",
       "1169222  New without tags. This dress can also be used ...         6   \n",
       "698204   Ardell single eyelashes new Ardell glue and re...         2   \n",
       "1385834  The bundle includes one lavender cleansing con...         7   \n",
       "\n",
       "         desc_len    target subcat_0        subcat_1  \\\n",
       "1055014        11  2.564949     Kids       Boys (4+)   \n",
       "213969          2  1.609438    Women  Tops & Blouses   \n",
       "1169222        76  2.564949    Women         Dresses   \n",
       "698204         14  2.564949   Beauty          Makeup   \n",
       "1385834        57  3.713572   Beauty       Hair Care   \n",
       "\n",
       "                           subcat_2  \n",
       "1055014              Top & T-shirts  \n",
       "213969                     T-Shirts  \n",
       "1169222            Above Knee, Mini  \n",
       "698204                         Eyes  \n",
       "1385834  Shampoo & Conditioner Sets  "
      ]
     },
     "execution_count": 13,
     "metadata": {},
     "output_type": "execute_result"
    }
   ],
   "source": [
    "train_df.head()"
   ]
  },
  {
   "cell_type": "markdown",
   "metadata": {},
   "source": [
    "ブランド名の欠損値を'missing'にする\\\n",
    "※商品名にブランド名が含まれている場合書き換える"
   ]
  },
  {
   "cell_type": "code",
   "execution_count": 14,
   "metadata": {},
   "outputs": [
    {
     "name": "stdout",
     "output_type": "stream",
     "text": [
      "379665\n",
      "252824\n",
      "77417\n",
      "51429\n"
     ]
    }
   ],
   "source": [
    "full_set = pd.concat([train_df, test_df])\n",
    "all_brands = set(full_set['brand_name'].values)\n",
    "\n",
    "train_df['brand_name'].fillna(value='missing', inplace=True)\n",
    "test_df['brand_name'].fillna(value='missing', inplace=True)\n",
    "\n",
    "train_premissing = len(train_df.loc[train_df['brand_name'] == 'missing'])\n",
    "test_premissing = len(test_df.loc[test_df['brand_name'] == 'missing'])\n",
    "\n",
    "def brandfinder(line):\n",
    "    brand = line[0]\n",
    "    name = line[1]\n",
    "    namesplit = name.split(' ')\n",
    "    \n",
    "    if brand == 'missing':\n",
    "        for x in namesplit:\n",
    "            if x in all_brands:\n",
    "                return name\n",
    "    if name in all_brands:\n",
    "        return name\n",
    "    return brand\n",
    "\n",
    "train_df['brand_name'] = train_df[['brand_name','name']].apply(brandfinder, axis = 1)\n",
    "test_df['brand_name'] = test_df[['brand_name', 'name']].apply(brandfinder, axis=1)\n",
    "\n",
    "train_change = train_premissing - len(train_df.loc[train_df['brand_name'] == 'missing'])\n",
    "test_change = test_premissing - len(test_df.loc[test_df['brand_name'] == 'missing'])\n",
    "\n",
    "print(train_premissing)\n",
    "print(test_premissing)\n",
    "print(train_change)\n",
    "print(test_change)"
   ]
  },
  {
   "cell_type": "markdown",
   "metadata": {},
   "source": [
    "訓練データを99:1に分割する"
   ]
  },
  {
   "cell_type": "code",
   "execution_count": 15,
   "metadata": {},
   "outputs": [
    {
     "name": "stdout",
     "output_type": "stream",
     "text": [
      "(880114, 14)\n",
      "(8891, 14)\n"
     ]
    }
   ],
   "source": [
    "from sklearn.model_selection import train_test_split\n",
    "\n",
    "train_dfs, dev_dfs = train_test_split(\n",
    "    train_df,\n",
    "    train_size=0.99,\n",
    "    test_size=0.01)\n",
    "\n",
    "n_trains = train_dfs.shape[0] \n",
    "n_devs = dev_dfs.shape[0]     \n",
    "n_tests = test_df.shape[0]   \n",
    "\n",
    "print(train_dfs.shape)\n",
    "print(dev_dfs.shape)"
   ]
  },
  {
   "cell_type": "markdown",
   "metadata": {},
   "source": [
    "カテゴリ名、ブランド名、説明文の欠損値の置き換え"
   ]
  },
  {
   "cell_type": "code",
   "execution_count": 16,
   "metadata": {},
   "outputs": [],
   "source": [
    "full_df = pd.concat([train_dfs, dev_dfs, test_df])\n",
    "\n",
    "def fill_missing_values(df):\n",
    "    df.category_name.fillna(value='missing', inplace=True)\n",
    "    df.brand_name.fillna(value='missing', inplace=True)\n",
    "    df.item_description.fillna(value='missing', inplace=True)\n",
    "    df.item_description.replace('No description yet', 'missing', inplace=True)\n",
    "    return df\n",
    "\n",
    "full_df = fill_missing_values(full_df)"
   ]
  },
  {
   "cell_type": "code",
   "execution_count": 17,
   "metadata": {},
   "outputs": [
    {
     "data": {
      "text/html": [
       "<div>\n",
       "<style scoped>\n",
       "    .dataframe tbody tr th:only-of-type {\n",
       "        vertical-align: middle;\n",
       "    }\n",
       "\n",
       "    .dataframe tbody tr th {\n",
       "        vertical-align: top;\n",
       "    }\n",
       "\n",
       "    .dataframe thead th {\n",
       "        text-align: right;\n",
       "    }\n",
       "</style>\n",
       "<table border=\"1\" class=\"dataframe\">\n",
       "  <thead>\n",
       "    <tr style=\"text-align: right;\">\n",
       "      <th></th>\n",
       "      <th>train_id</th>\n",
       "      <th>name</th>\n",
       "      <th>item_condition_id</th>\n",
       "      <th>category_name</th>\n",
       "      <th>brand_name</th>\n",
       "      <th>price</th>\n",
       "      <th>shipping</th>\n",
       "      <th>item_description</th>\n",
       "      <th>name_len</th>\n",
       "      <th>desc_len</th>\n",
       "      <th>target</th>\n",
       "      <th>subcat_0</th>\n",
       "      <th>subcat_1</th>\n",
       "      <th>subcat_2</th>\n",
       "    </tr>\n",
       "  </thead>\n",
       "  <tbody>\n",
       "    <tr>\n",
       "      <th>199068</th>\n",
       "      <td>199068</td>\n",
       "      <td>For sbkelley22</td>\n",
       "      <td>1</td>\n",
       "      <td>Women/Athletic Apparel/Shorts</td>\n",
       "      <td>Lululemon</td>\n",
       "      <td>54.0</td>\n",
       "      <td>0</td>\n",
       "      <td>NEW without tags never worn. Size 10. Rare min...</td>\n",
       "      <td>2</td>\n",
       "      <td>18</td>\n",
       "      <td>4.007333</td>\n",
       "      <td>Women</td>\n",
       "      <td>Athletic Apparel</td>\n",
       "      <td>Shorts</td>\n",
       "    </tr>\n",
       "    <tr>\n",
       "      <th>156238</th>\n",
       "      <td>156238</td>\n",
       "      <td>MK iPhone</td>\n",
       "      <td>4</td>\n",
       "      <td>Electronics/Cell Phones &amp; Accessories/Cases, C...</td>\n",
       "      <td>missing</td>\n",
       "      <td>9.0</td>\n",
       "      <td>0</td>\n",
       "      <td>For iPhone 6 Plus</td>\n",
       "      <td>2</td>\n",
       "      <td>4</td>\n",
       "      <td>2.302585</td>\n",
       "      <td>Electronics</td>\n",
       "      <td>Cell Phones &amp; Accessories</td>\n",
       "      <td>Cases, Covers &amp; Skins</td>\n",
       "    </tr>\n",
       "    <tr>\n",
       "      <th>123852</th>\n",
       "      <td>123852</td>\n",
       "      <td>Scort Carter's 3t</td>\n",
       "      <td>2</td>\n",
       "      <td>Kids/Girls 2T-5T/Bottoms</td>\n",
       "      <td>Carter's</td>\n",
       "      <td>10.0</td>\n",
       "      <td>0</td>\n",
       "      <td>Smoke and pet free home. Bundle to save on shi...</td>\n",
       "      <td>3</td>\n",
       "      <td>10</td>\n",
       "      <td>2.397895</td>\n",
       "      <td>Kids</td>\n",
       "      <td>Girls 2T-5T</td>\n",
       "      <td>Bottoms</td>\n",
       "    </tr>\n",
       "    <tr>\n",
       "      <th>1412591</th>\n",
       "      <td>1412591</td>\n",
       "      <td>The north face girls!</td>\n",
       "      <td>1</td>\n",
       "      <td>Kids/Girls (4+)/Coats &amp; Jackets</td>\n",
       "      <td>The North Face</td>\n",
       "      <td>29.0</td>\n",
       "      <td>0</td>\n",
       "      <td>Brand new fleece pullover girls! Size large (1...</td>\n",
       "      <td>4</td>\n",
       "      <td>14</td>\n",
       "      <td>3.401197</td>\n",
       "      <td>Kids</td>\n",
       "      <td>Girls (4+)</td>\n",
       "      <td>Coats &amp; Jackets</td>\n",
       "    </tr>\n",
       "    <tr>\n",
       "      <th>315767</th>\n",
       "      <td>315767</td>\n",
       "      <td>Make Up For Ever foundation</td>\n",
       "      <td>1</td>\n",
       "      <td>Beauty/Makeup/Face</td>\n",
       "      <td>Sephora</td>\n",
       "      <td>10.0</td>\n",
       "      <td>1</td>\n",
       "      <td>Make up for ever foundation Ultra HD invisible...</td>\n",
       "      <td>5</td>\n",
       "      <td>26</td>\n",
       "      <td>2.397895</td>\n",
       "      <td>Beauty</td>\n",
       "      <td>Makeup</td>\n",
       "      <td>Face</td>\n",
       "    </tr>\n",
       "  </tbody>\n",
       "</table>\n",
       "</div>"
      ],
      "text/plain": [
       "         train_id                         name  item_condition_id  \\\n",
       "199068     199068               For sbkelley22                  1   \n",
       "156238     156238                    MK iPhone                  4   \n",
       "123852     123852            Scort Carter's 3t                  2   \n",
       "1412591   1412591        The north face girls!                  1   \n",
       "315767     315767  Make Up For Ever foundation                  1   \n",
       "\n",
       "                                             category_name      brand_name  \\\n",
       "199068                       Women/Athletic Apparel/Shorts       Lululemon   \n",
       "156238   Electronics/Cell Phones & Accessories/Cases, C...         missing   \n",
       "123852                            Kids/Girls 2T-5T/Bottoms        Carter's   \n",
       "1412591                    Kids/Girls (4+)/Coats & Jackets  The North Face   \n",
       "315767                                  Beauty/Makeup/Face         Sephora   \n",
       "\n",
       "         price  shipping                                   item_description  \\\n",
       "199068    54.0         0  NEW without tags never worn. Size 10. Rare min...   \n",
       "156238     9.0         0                                  For iPhone 6 Plus   \n",
       "123852    10.0         0  Smoke and pet free home. Bundle to save on shi...   \n",
       "1412591   29.0         0  Brand new fleece pullover girls! Size large (1...   \n",
       "315767    10.0         1  Make up for ever foundation Ultra HD invisible...   \n",
       "\n",
       "         name_len  desc_len    target     subcat_0                   subcat_1  \\\n",
       "199068          2        18  4.007333        Women           Athletic Apparel   \n",
       "156238          2         4  2.302585  Electronics  Cell Phones & Accessories   \n",
       "123852          3        10  2.397895         Kids                Girls 2T-5T   \n",
       "1412591         4        14  3.401197         Kids                 Girls (4+)   \n",
       "315767          5        26  2.397895       Beauty                     Makeup   \n",
       "\n",
       "                      subcat_2  \n",
       "199068                  Shorts  \n",
       "156238   Cases, Covers & Skins  \n",
       "123852                 Bottoms  \n",
       "1412591        Coats & Jackets  \n",
       "315767                    Face  "
      ]
     },
     "execution_count": 17,
     "metadata": {},
     "output_type": "execute_result"
    }
   ],
   "source": [
    "full_df.head()"
   ]
  },
  {
   "cell_type": "markdown",
   "metadata": {},
   "source": [
    "カテゴリ、ブランドをラベルエンコード"
   ]
  },
  {
   "cell_type": "code",
   "execution_count": 18,
   "metadata": {},
   "outputs": [],
   "source": [
    "from sklearn.preprocessing import LabelEncoder\n",
    "\n",
    "le = LabelEncoder()\n",
    "\n",
    "le.fit(full_df.category_name)\n",
    "full_df['category'] = le.transform(full_df.category_name)\n",
    "\n",
    "le.fit(full_df.brand_name)\n",
    "full_df.brand_name= le.transform(full_df.brand_name)\n",
    "\n",
    "le.fit(full_df.subcat_0)\n",
    "full_df.subcat_0= le.transform(full_df.subcat_0)\n",
    "\n",
    "le.fit(full_df.subcat_1)\n",
    "full_df.subcat_1= le.transform(full_df.subcat_1)\n",
    "\n",
    "le.fit(full_df.subcat_2)\n",
    "full_df.subcat_2= le.transform(full_df.subcat_2)"
   ]
  },
  {
   "cell_type": "markdown",
   "metadata": {},
   "source": [
    "商品名・商品説明をトークンに分解しラベルエンコード"
   ]
  },
  {
   "cell_type": "code",
   "execution_count": 19,
   "metadata": {},
   "outputs": [
    {
     "name": "stdout",
     "output_type": "stream",
     "text": [
      "199068     [6, 309, 80, 46, 36, 7, 118, 570, 547, 190, 13...\n",
      "156238                                      [4, 95, 60, 160]\n",
      "123852             [148, 1, 227, 13, 37, 30, 9, 153, 14, 19]\n",
      "1412591    [16, 6, 580, 743, 112, 7, 93, 433, 464, 47, 12...\n",
      "315767     [178, 90, 4, 1044, 479, 703, 1597, 3145, 414, ...\n",
      "Name: seq_item_description, dtype: object\n",
      "199068                 [4, 214518]\n",
      "156238                  [1030, 95]\n",
      "123852          [60345, 1584, 990]\n",
      "1412591         [3, 770, 114, 112]\n",
      "315767     [178, 90, 4, 1044, 479]\n",
      "Name: seq_name, dtype: object\n"
     ]
    }
   ],
   "source": [
    "from tensorflow.keras.preprocessing.text import Tokenizer\n",
    "\n",
    "raw_text = np.hstack(\n",
    "    [full_df.item_description.str.lower(),\n",
    "    full_df.name.str.lower(),\n",
    "    full_df.category_name.str.lower()]\n",
    ")\n",
    "\n",
    "tok_raw = Tokenizer()\n",
    "tok_raw.fit_on_texts(raw_text)\n",
    "\n",
    "full_df['seq_item_description'] = tok_raw.texts_to_sequences(full_df.item_description.str.lower())\n",
    "full_df['seq_name'] = tok_raw.texts_to_sequences(full_df.name.str.lower())\n",
    "\n",
    "print(full_df.seq_item_description.head())\n",
    "print(full_df.seq_name.head())"
   ]
  },
  {
   "cell_type": "markdown",
   "metadata": {},
   "source": [
    "定数定義"
   ]
  },
  {
   "cell_type": "code",
   "execution_count": 20,
   "metadata": {},
   "outputs": [],
   "source": [
    "MAX_TEXT = np.max([\n",
    "    np.max(full_df.seq_name.max()),\n",
    "    np.max(full_df.seq_item_description.max())\n",
    "]) + 100\n",
    "\n",
    "MAX_CATEGORY = np.max(full_df.category.max()) + 1\n",
    "MAX_BRAND = np.max(full_df.brand_name.max()) + 1\n",
    "MAX_CONDITION = np.max(full_df.item_condition_id.max()) + 1\n",
    "MAX_DESC_LEN = np.max(full_df.desc_len.max()) + 1\n",
    "MAX_NAME_LEN = np.max(full_df.name_len.max()) + 1\n",
    "MAX_SUBCAT_0 = np.max(full_df.subcat_0.max()) + 1\n",
    "MAX_SUBCAT_1 = np.max(full_df.subcat_1.max()) + 1\n",
    "MAX_SUBCAT_2 = np.max(full_df.subcat_2.max()) + 1"
   ]
  },
  {
   "cell_type": "markdown",
   "metadata": {},
   "source": [
    "RNNに入力するデータを用意"
   ]
  },
  {
   "cell_type": "code",
   "execution_count": 21,
   "metadata": {},
   "outputs": [],
   "source": [
    "from tensorflow.keras.preprocessing.sequence import pad_sequences\n",
    "\n",
    "def get_rnn_data(dataset):\n",
    "    \n",
    "    X = {\n",
    "        'name': pad_sequences(dataset.seq_name, maxlen=10),\n",
    "        'item_desc': pad_sequences(dataset.seq_item_description, maxlen=75),\n",
    "        'brand_name': np.array(dataset.brand_name),\n",
    "        'category': np.array(dataset.category),\n",
    "        'item_condition': np.array(dataset.item_condition_id),\n",
    "        'num_vars': np.array(dataset[[\"shipping\"]]),\n",
    "        'desc_len': np.array(dataset[[\"desc_len\"]]),\n",
    "        'name_len': np.array(dataset[[\"name_len\"]]),\n",
    "        'subcat_0': np.array(dataset.subcat_0),\n",
    "        'subcat_1': np.array(dataset.subcat_1),\n",
    "        'subcat_2': np.array(dataset.subcat_2),\n",
    "    }\n",
    "    return X\n",
    "\n",
    "train = full_df[:n_trains]\n",
    "dev = full_df[n_trains:n_trains+n_devs]\n",
    "test = full_df[n_trains+n_devs:]\n",
    "\n",
    "X_train = get_rnn_data(train)\n",
    "Y_train = train.target.values.reshape(-1, 1)\n",
    "\n",
    "X_dev = get_rnn_data(dev)\n",
    "Y_dev = dev.target.values.reshape(-1, 1)\n",
    "\n",
    "X_test = get_rnn_data(test)\n"
   ]
  },
  {
   "cell_type": "markdown",
   "metadata": {},
   "source": [
    "モデル\\\n",
    "LSTMは処理に多くの時間を要するのでGRUを用いている\n",
    "\n",
    "商品名ラベル（name）・商品説明ラベル（item_desc）\\\n",
    "→Embeddingでベクトル化を行い、GRUへ入力し全結合層へ\n",
    "\n",
    "ブランド名ラベル（brand_name）・商品の状態（item_condition）・商品名の単語数（name_len）・商品説明の単語数（desc_len）・サブカテゴリラベル（subcat_0,subcat_1,subcat_2)\\\n",
    "→Embeddingでベクトル化を行い、全結合層へ\n",
    "\n",
    "送料負担\\\n",
    "→全結合層へ\n",
    "\n",
    "全結合層は入力層,512unit,256unit,128unit,64unit,出力層\\\n",
    "となっている"
   ]
  },
  {
   "cell_type": "code",
   "execution_count": 22,
   "metadata": {
    "scrolled": false
   },
   "outputs": [
    {
     "name": "stdout",
     "output_type": "stream",
     "text": [
      "Model: \"functional_1\"\n",
      "__________________________________________________________________________________________________\n",
      "Layer (type)                    Output Shape         Param #     Connected to                     \n",
      "==================================================================================================\n",
      "brand_name (InputLayer)         [(None, 1)]          0                                            \n",
      "__________________________________________________________________________________________________\n",
      "item_condition (InputLayer)     [(None, 1)]          0                                            \n",
      "__________________________________________________________________________________________________\n",
      "desc_len (InputLayer)           [(None, 1)]          0                                            \n",
      "__________________________________________________________________________________________________\n",
      "name_len (InputLayer)           [(None, 1)]          0                                            \n",
      "__________________________________________________________________________________________________\n",
      "subcat_0 (InputLayer)           [(None, 1)]          0                                            \n",
      "__________________________________________________________________________________________________\n",
      "subcat_1 (InputLayer)           [(None, 1)]          0                                            \n",
      "__________________________________________________________________________________________________\n",
      "subcat_2 (InputLayer)           [(None, 1)]          0                                            \n",
      "__________________________________________________________________________________________________\n",
      "item_desc (InputLayer)          [(None, 75)]         0                                            \n",
      "__________________________________________________________________________________________________\n",
      "name (InputLayer)               [(None, 10)]         0                                            \n",
      "__________________________________________________________________________________________________\n",
      "embedding_2 (Embedding)         (None, 1, 10)        1186700     brand_name[0][0]                 \n",
      "__________________________________________________________________________________________________\n",
      "embedding_3 (Embedding)         (None, 1, 5)         30          item_condition[0][0]             \n",
      "__________________________________________________________________________________________________\n",
      "embedding_4 (Embedding)         (None, 1, 5)         1230        desc_len[0][0]                   \n",
      "__________________________________________________________________________________________________\n",
      "embedding_5 (Embedding)         (None, 1, 5)         90          name_len[0][0]                   \n",
      "__________________________________________________________________________________________________\n",
      "embedding_6 (Embedding)         (None, 1, 10)        110         subcat_0[0][0]                   \n",
      "__________________________________________________________________________________________________\n",
      "embedding_7 (Embedding)         (None, 1, 10)        1140        subcat_1[0][0]                   \n",
      "__________________________________________________________________________________________________\n",
      "embedding_8 (Embedding)         (None, 1, 10)        8710        subcat_2[0][0]                   \n",
      "__________________________________________________________________________________________________\n",
      "embedding_1 (Embedding)         (None, 75, 60)       15548940    item_desc[0][0]                  \n",
      "__________________________________________________________________________________________________\n",
      "embedding (Embedding)           (None, 10, 20)       5182980     name[0][0]                       \n",
      "__________________________________________________________________________________________________\n",
      "flatten (Flatten)               (None, 10)           0           embedding_2[0][0]                \n",
      "__________________________________________________________________________________________________\n",
      "flatten_1 (Flatten)             (None, 5)            0           embedding_3[0][0]                \n",
      "__________________________________________________________________________________________________\n",
      "flatten_2 (Flatten)             (None, 5)            0           embedding_4[0][0]                \n",
      "__________________________________________________________________________________________________\n",
      "flatten_3 (Flatten)             (None, 5)            0           embedding_5[0][0]                \n",
      "__________________________________________________________________________________________________\n",
      "flatten_4 (Flatten)             (None, 10)           0           embedding_6[0][0]                \n",
      "__________________________________________________________________________________________________\n",
      "flatten_5 (Flatten)             (None, 10)           0           embedding_7[0][0]                \n",
      "__________________________________________________________________________________________________\n",
      "flatten_6 (Flatten)             (None, 10)           0           embedding_8[0][0]                \n",
      "__________________________________________________________________________________________________\n",
      "gru (GRU)                       (None, 16)           3744        embedding_1[0][0]                \n",
      "__________________________________________________________________________________________________\n",
      "gru_1 (GRU)                     (None, 8)            720         embedding[0][0]                  \n",
      "__________________________________________________________________________________________________\n",
      "num_vars (InputLayer)           [(None, 1)]          0                                            \n",
      "__________________________________________________________________________________________________\n",
      "concatenate (Concatenate)       (None, 80)           0           flatten[0][0]                    \n",
      "                                                                 flatten_1[0][0]                  \n",
      "                                                                 flatten_2[0][0]                  \n",
      "                                                                 flatten_3[0][0]                  \n",
      "                                                                 flatten_4[0][0]                  \n",
      "                                                                 flatten_5[0][0]                  \n",
      "                                                                 flatten_6[0][0]                  \n",
      "                                                                 gru[0][0]                        \n",
      "                                                                 gru_1[0][0]                      \n",
      "                                                                 num_vars[0][0]                   \n",
      "__________________________________________________________________________________________________\n",
      "dense (Dense)                   (None, 512)          41472       concatenate[0][0]                \n",
      "__________________________________________________________________________________________________\n",
      "dropout (Dropout)               (None, 512)          0           dense[0][0]                      \n",
      "__________________________________________________________________________________________________\n",
      "dense_1 (Dense)                 (None, 256)          131328      dropout[0][0]                    \n",
      "__________________________________________________________________________________________________\n",
      "dropout_1 (Dropout)             (None, 256)          0           dense_1[0][0]                    \n",
      "__________________________________________________________________________________________________\n",
      "dense_2 (Dense)                 (None, 128)          32896       dropout_1[0][0]                  \n",
      "__________________________________________________________________________________________________\n",
      "dropout_2 (Dropout)             (None, 128)          0           dense_2[0][0]                    \n",
      "__________________________________________________________________________________________________\n",
      "dense_3 (Dense)                 (None, 64)           8256        dropout_2[0][0]                  \n",
      "__________________________________________________________________________________________________\n",
      "dropout_3 (Dropout)             (None, 64)           0           dense_3[0][0]                    \n",
      "__________________________________________________________________________________________________\n",
      "dense_4 (Dense)                 (None, 1)            65          dropout_3[0][0]                  \n",
      "==================================================================================================\n",
      "Total params: 22,148,411\n",
      "Trainable params: 22,148,411\n",
      "Non-trainable params: 0\n",
      "__________________________________________________________________________________________________\n"
     ]
    }
   ],
   "source": [
    "from tensorflow.keras.models import Model\n",
    "from tensorflow.keras.layers import Input, Dropout, Dense, Embedding, Flatten\n",
    "from tensorflow.keras.layers import concatenate, GRU\n",
    "from tensorflow.keras.optimizers import Adam\n",
    "\n",
    "\n",
    "def rmsle(Y, Y_pred):\n",
    "    assert Y.shape == Y_pred.shape\n",
    "    return np.sqrt(np.mean(np.square(Y_pred - Y )))\n",
    "\n",
    "def new_rnn_model(lr=0.001, decay=0.0):\n",
    "    \n",
    "    name = Input(shape=[X_train[\"name\"].shape[1]], name=\"name\")\n",
    "    item_desc = Input(shape=[X_train[\"item_desc\"].shape[1]], name=\"item_desc\")\n",
    "    brand_name = Input(shape=[1], name=\"brand_name\")\n",
    "    item_condition = Input(shape=[1], name=\"item_condition\")\n",
    "    num_vars = Input(shape=[X_train[\"num_vars\"].shape[1]], name=\"num_vars\")\n",
    "    name_len = Input(shape=[1], name=\"name_len\")\n",
    "    desc_len = Input(shape=[1], name=\"desc_len\")\n",
    "    subcat_0 = Input(shape=[1], name=\"subcat_0\")\n",
    "    subcat_1 = Input(shape=[1], name=\"subcat_1\")\n",
    "    subcat_2 = Input(shape=[1], name=\"subcat_2\")\n",
    "\n",
    "    \n",
    "    emb_name = Embedding(MAX_TEXT, 20)(name)\n",
    "    emb_item_desc = Embedding(MAX_TEXT, 60)(item_desc)\n",
    "    emb_brand_name = Embedding(MAX_BRAND, 10)(brand_name)\n",
    "    emb_item_condition = Embedding(MAX_CONDITION, 5)(item_condition)\n",
    "    emb_desc_len = Embedding(MAX_DESC_LEN, 5)(desc_len)\n",
    "    emb_name_len = Embedding(MAX_NAME_LEN, 5)(name_len)\n",
    "    emb_subcat_0 = Embedding(MAX_SUBCAT_0, 10)(subcat_0)\n",
    "    emb_subcat_1 = Embedding(MAX_SUBCAT_1, 10)(subcat_1)\n",
    "    emb_subcat_2 = Embedding(MAX_SUBCAT_2, 10)(subcat_2)\n",
    "    \n",
    "    rnn_layer1 = GRU(16) (emb_item_desc) \n",
    "    rnn_layer2 = GRU(8) (emb_name)       \n",
    "\n",
    "    main_l = concatenate([\n",
    "        Flatten()(emb_brand_name),     \n",
    "        Flatten()(emb_item_condition), \n",
    "        Flatten()(emb_desc_len), \n",
    "        Flatten()(emb_name_len), \n",
    "        Flatten()(emb_subcat_0), \n",
    "        Flatten()(emb_subcat_1), \n",
    "        Flatten()(emb_subcat_2), \n",
    "        rnn_layer1, \n",
    "        rnn_layer2, \n",
    "        num_vars    \n",
    "    ])\n",
    " \n",
    "    main_l = Dropout(0.1)(\n",
    "        Dense(512,kernel_initializer='normal',activation='relu')(main_l))\n",
    "    main_l = Dropout(0.1)(\n",
    "        Dense(256,kernel_initializer='normal',activation='relu')(main_l))\n",
    "    main_l = Dropout(0.1)(\n",
    "        Dense(128,kernel_initializer='normal',activation='relu')(main_l))\n",
    "    main_l = Dropout(0.1)(\n",
    "        Dense(64,kernel_initializer='normal',activation='relu')(main_l))\n",
    "\n",
    "    output = Dense(1, activation=\"linear\") (main_l)\n",
    "    \n",
    "    model = Model(\n",
    "        inputs=[name, item_desc, brand_name, item_condition, num_vars,\n",
    "                desc_len, name_len, subcat_0, subcat_1, subcat_2],\n",
    "        outputs=output\n",
    "    )\n",
    "\n",
    "    model.compile(loss = 'mse', optimizer = Adam(lr=lr, decay=decay))\n",
    "\n",
    "    return model\n",
    "\n",
    "model = new_rnn_model()\n",
    "model.summary()"
   ]
  },
  {
   "cell_type": "markdown",
   "metadata": {},
   "source": [
    "学習"
   ]
  },
  {
   "cell_type": "code",
   "execution_count": 23,
   "metadata": {},
   "outputs": [
    {
     "name": "stdout",
     "output_type": "stream",
     "text": [
      "Epoch 1/3\n"
     ]
    },
    {
     "name": "stderr",
     "output_type": "stream",
     "text": [
      "/Users/yuto/opt/anaconda3/lib/python3.8/site-packages/tensorflow/python/keras/engine/functional.py:540: UserWarning: Input dict contained keys ['category'] which did not match any model input. They will be ignored by the model.\n",
      "  warnings.warn(\n"
     ]
    },
    {
     "name": "stdout",
     "output_type": "stream",
     "text": [
      "6876/6876 [==============================] - 1046s 152ms/step - loss: 0.2544 - val_loss: 0.2032\n",
      "Epoch 2/3\n",
      "6876/6876 [==============================] - 984s 143ms/step - loss: 0.1777 - val_loss: 0.1941\n",
      "Epoch 3/3\n",
      "6876/6876 [==============================] - 978s 142ms/step - loss: 0.1481 - val_loss: 0.1870\n"
     ]
    },
    {
     "data": {
      "text/plain": [
       "<tensorflow.python.keras.callbacks.History at 0x7f8792e31c40>"
      ]
     },
     "execution_count": 23,
     "metadata": {},
     "output_type": "execute_result"
    }
   ],
   "source": [
    "BATCH_SIZE = 128\n",
    "epochs = 3\n",
    "\n",
    "exp_decay = lambda init, fin, steps: (init/fin)**(1/(steps-1)) - 1\n",
    "steps = int(len(X_train['name']) / BATCH_SIZE) * epochs\n",
    "lr_init =  0.005\n",
    "lr_fin = 0.001\n",
    "lr_decay = exp_decay(lr_init, lr_fin, steps)\n",
    "\n",
    "rnn_model = new_rnn_model(lr=lr_init, decay=lr_decay)\n",
    "\n",
    "rnn_model.fit(X_train, Y_train,\n",
    "              epochs=epochs,\n",
    "              batch_size=BATCH_SIZE,\n",
    "              validation_data=(X_dev, Y_dev),\n",
    "              verbose=1\n",
    ")"
   ]
  },
  {
   "cell_type": "markdown",
   "metadata": {},
   "source": [
    "検証データでモデルを評価し、誤差(rmse)を求める"
   ]
  },
  {
   "cell_type": "code",
   "execution_count": 24,
   "metadata": {},
   "outputs": [
    {
     "name": "stdout",
     "output_type": "stream",
     "text": [
      "0.43243732911649363\n"
     ]
    }
   ],
   "source": [
    "Y_dev_preds_rnn = rnn_model.predict(X_dev,batch_size=BATCH_SIZE)\n",
    "print( rmsle(Y_dev, Y_dev_preds_rnn))"
   ]
  },
  {
   "cell_type": "markdown",
   "metadata": {},
   "source": [
    "テストデータで商品価格を予測する"
   ]
  },
  {
   "cell_type": "code",
   "execution_count": 28,
   "metadata": {},
   "outputs": [
    {
     "name": "stdout",
     "output_type": "stream",
     "text": [
      "4633/4633 [==============================] - 25s 5ms/step\n"
     ]
    }
   ],
   "source": [
    "rnn_preds = rnn_model.predict(X_test, batch_size=BATCH_SIZE, verbose=1)"
   ]
  },
  {
   "cell_type": "code",
   "execution_count": 30,
   "metadata": {},
   "outputs": [
    {
     "name": "stdout",
     "output_type": "stream",
     "text": [
      "0.44006442054989436\n"
     ]
    }
   ],
   "source": [
    "test_dfs['target']=np.log1p(test_dfs.price)\n",
    "Y_test = test_dfs.target.values.reshape(-1, 1)\n",
    "print( rmsle(Y_test, rnn_preds))"
   ]
  },
  {
   "cell_type": "markdown",
   "metadata": {},
   "source": [
    "rmseの値がテストデータでも0.44ということである程度抑えられて良い結果を得ることができた。書籍「Kaggleで学んでハイスコアをたたき出す！Python 機械学習&データ分析」や、Kaggle上でのmercariコンペのコードを参考にしながら実装した。Kaggle上でのコンペでは、MLPやCNNで実装されているものや、アンサンブル学習を行っているコードもあり、時系列データに有効な手法はRNNだけではないと感じたが、実装経験があまりないこともあり、今回はRNNで実装することを選んだ。"
   ]
  }
 ],
 "metadata": {
  "kernelspec": {
   "display_name": "Python 3",
   "language": "python",
   "name": "python3"
  },
  "language_info": {
   "codemirror_mode": {
    "name": "ipython",
    "version": 3
   },
   "file_extension": ".py",
   "mimetype": "text/x-python",
   "name": "python",
   "nbconvert_exporter": "python",
   "pygments_lexer": "ipython3",
   "version": "3.8.3"
  }
 },
 "nbformat": 4,
 "nbformat_minor": 4
}
